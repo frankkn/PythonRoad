{
 "cells": [
  {
   "cell_type": "code",
   "execution_count": null,
   "id": "9b795439",
   "metadata": {},
   "outputs": [],
   "source": [
    "# Best \n",
    "def product(L):\n",
    "    p = 1\n",
    "    for n in L:\n",
    "        p = p * n\n",
    "    return p"
   ]
  },
  {
   "cell_type": "code",
   "execution_count": null,
   "id": "0e8a0a6b",
   "metadata": {},
   "outputs": [],
   "source": [
    "# so-so\n",
    "def product(L):\n",
    "    p = 1\n",
    "    for i in range(len(L)):\n",
    "        p = p * L[i]\n",
    "    return p"
   ]
  },
  {
   "cell_type": "code",
   "execution_count": null,
   "id": "c33d7c0e",
   "metadata": {},
   "outputs": [],
   "source": [
    "# Very awkward\n",
    "def product(L):\n",
    "    p = 1\n",
    "    i = 0\n",
    "    while i < len(L):\n",
    "        p = p * L[i]\n",
    "        i += 1\n",
    "    return p"
   ]
  },
  {
   "cell_type": "code",
   "execution_count": 1,
   "id": "6b9c7763",
   "metadata": {},
   "outputs": [
    {
     "name": "stdout",
     "output_type": "stream",
     "text": [
      "87\n"
     ]
    }
   ],
   "source": [
    "# general for-loop with unpacking\n",
    "def totalArea(L):\n",
    "    t = 0\n",
    "    for width, height in L:\n",
    "        t = t + width * height\n",
    "    return t\n",
    "listOfDimensions = [(5,2), (3,7), (7,8)]\n",
    "t = totalArea(listOfDimensions)\n",
    "print(t)"
   ]
  },
  {
   "cell_type": "code",
   "execution_count": 6,
   "id": "08060ba0",
   "metadata": {},
   "outputs": [
    {
     "name": "stdout",
     "output_type": "stream",
     "text": [
      "<enumerate object at 0x7fe4e4625b80>\n"
     ]
    },
    {
     "data": {
      "text/plain": [
       "[(100, 'a'), (101, 'b'), (102, 'c'), (103, 'd'), (104, 'e')]"
      ]
     },
     "execution_count": 6,
     "metadata": {},
     "output_type": "execute_result"
    }
   ],
   "source": [
    "# enumerate() funtion !\n",
    "# enumerate(L) generates [(0, L[0]), (1, L[1]), ...]\n",
    "\n",
    "def index(L, val):\n",
    "    for i, v in enumerate(L):\n",
    "        if v == val:\n",
    "            return i\n",
    "    return -1\n",
    "\n",
    "L = ['a', 'b', 'c', 'd', 'e']\n",
    "print(enumerate(L))\n",
    "list(enumerate(L))\n",
    "list(enumerate(L, 100))"
   ]
  }
 ],
 "metadata": {
  "kernelspec": {
   "display_name": "Python 3 (ipykernel)",
   "language": "python",
   "name": "python3"
  },
  "language_info": {
   "codemirror_mode": {
    "name": "ipython",
    "version": 3
   },
   "file_extension": ".py",
   "mimetype": "text/x-python",
   "name": "python",
   "nbconvert_exporter": "python",
   "pygments_lexer": "ipython3",
   "version": "3.8.10"
  }
 },
 "nbformat": 4,
 "nbformat_minor": 5
}
