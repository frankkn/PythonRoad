{
 "cells": [
  {
   "cell_type": "code",
   "execution_count": 3,
   "id": "68f6ad5d",
   "metadata": {},
   "outputs": [
    {
     "name": "stdout",
     "output_type": "stream",
     "text": [
      "945\n"
     ]
    }
   ],
   "source": [
    "def product(L):\n",
    "    p = 1\n",
    "    i = 0\n",
    "    while i < len(L):\n",
    "        p = p * L[i]\n",
    "        i = i + 1\n",
    "    return p\n",
    "print(product([1,3,5,7,9]))"
   ]
  },
  {
   "cell_type": "code",
   "execution_count": null,
   "id": "9cf47d13",
   "metadata": {},
   "outputs": [],
   "source": [
    "def product(L):\n",
    "    p = 1\n",
    "    i = 0\n",
    "    while True:\n",
    "        if i >= len(L):\n",
    "            break\n",
    "        p = p * L[i]\n",
    "        i = i + 1\n",
    "    return p"
   ]
  },
  {
   "cell_type": "code",
   "execution_count": 10,
   "id": "c5508663",
   "metadata": {},
   "outputs": [
    {
     "name": "stdout",
     "output_type": "stream",
     "text": [
      "2\n"
     ]
    }
   ],
   "source": [
    "L = ['a', 'b', 'c', 'd', 'e']\n",
    "a = L.index('c')\n",
    "# b = L.index('z') error!\n",
    "print(a)\n"
   ]
  },
  {
   "cell_type": "code",
   "execution_count": 12,
   "id": "a1312411",
   "metadata": {},
   "outputs": [
    {
     "name": "stdout",
     "output_type": "stream",
     "text": [
      "2\n",
      "-1\n"
     ]
    }
   ],
   "source": [
    "def index(L, val):\n",
    "    i = 0\n",
    "    while i < len(L):\n",
    "        if L[i] == val:\n",
    "            break\n",
    "        i += 1\n",
    "    return i if i < len(L) else -1\n",
    "L = ['a', 'b', 'c', 'd', 'e']\n",
    "a = index(L, 'c')\n",
    "b = index(L, 'z')\n",
    "print(a); print(b)"
   ]
  },
  {
   "cell_type": "code",
   "execution_count": 13,
   "id": "afedd535",
   "metadata": {},
   "outputs": [
    {
     "name": "stdout",
     "output_type": "stream",
     "text": [
      "2\n",
      "-1\n"
     ]
    }
   ],
   "source": [
    "def index(L, val):\n",
    "    i = 0\n",
    "    while i < len(L):\n",
    "        if L[i] == val:\n",
    "            break\n",
    "        i += 1\n",
    "    else:\n",
    "        return -1\n",
    "    return i\n",
    "L = ['a', 'b', 'c', 'd', 'e']\n",
    "a = index(L, 'c')\n",
    "b = index(L, 'z')\n",
    "print(a); print(b)"
   ]
  },
  {
   "cell_type": "code",
   "execution_count": 14,
   "id": "9d537cf2",
   "metadata": {},
   "outputs": [
    {
     "name": "stdout",
     "output_type": "stream",
     "text": [
      "2\n",
      "-1\n"
     ]
    }
   ],
   "source": [
    "def index(L, val):\n",
    "    i = 0\n",
    "    while True:\n",
    "        if i < len(L):    \n",
    "            if L[i] == val:\n",
    "                return i\n",
    "                break\n",
    "            i += 1\n",
    "        else:\n",
    "            return -1\n",
    "L = ['a', 'b', 'c', 'd', 'e']\n",
    "a = index(L, 'c')\n",
    "b = index(L, 'z')\n",
    "print(a); print(b)"
   ]
  },
  {
   "cell_type": "code",
   "execution_count": null,
   "id": "96f2cbfc",
   "metadata": {},
   "outputs": [],
   "source": [
    "def index(L, val):\n",
    "    i = 0\n",
    "    while i < len(L):\n",
    "        if L[i] == val:\n",
    "            return i\n",
    "        i += 1\n",
    "    return -1\n",
    "L = ['a', 'b', 'c', 'd', 'e']\n",
    "a = index(L, 'c')\n",
    "b = index(L, 'z')\n",
    "print(a); print(b)"
   ]
  },
  {
   "cell_type": "code",
   "execution_count": null,
   "id": "fa0e3a51",
   "metadata": {
    "scrolled": true
   },
   "outputs": [
    {
     "name": "stdout",
     "output_type": "stream",
     "text": [
      "enter English:one\n",
      "one in Spanish is uno\n"
     ]
    }
   ],
   "source": [
    "def RepeatedLookup():\n",
    "    ESdict = {'one':'uno', 'dos':'two', 'three':'tres'}\n",
    "    word = input('enter English:')\n",
    "    while word != '':\n",
    "        if word in ESdict:\n",
    "            print(f'{word} in Spanish is {ESdict[word]}')\n",
    "        else:\n",
    "            print(f'{word} not in dict')\n",
    "        word = input('enter English:')\n",
    "RepeatedLookup()"
   ]
  },
  {
   "cell_type": "code",
   "execution_count": null,
   "id": "cfd8ec08",
   "metadata": {},
   "outputs": [],
   "source": [
    "def RepeatedLookup():\n",
    "    ESdict = {'one':'uno', 'dos':'two', 'three':'tres'}\n",
    "    while True:\n",
    "        word = input('enter English:')\n",
    "        if word == '':\n",
    "            break\n",
    "        if word in ESdict:\n",
    "            print(f'{word} in Spanish is {ESdict[word]}')\n",
    "        else:\n",
    "            print(f'{word} not in dict')\n",
    "        \n",
    "RepeatedLookup()"
   ]
  },
  {
   "cell_type": "code",
   "execution_count": null,
   "id": "1f4152a7",
   "metadata": {},
   "outputs": [],
   "source": [
    "def StackInterpreter():\n",
    "    L = []\n",
    "    while True:\n",
    "        cmd = input('Eneter a stack operation:')\n",
    "        words = line.split()\n",
    "        if len(words) == 0:\n",
    "            pass\n",
    "        elif words[0] == 'show':\n",
    "            print(L)\n",
    "        elif words[0] == 'push':\n",
    "            L.extend(words[1:])\n",
    "        elif words[0] == 'pop':\n",
    "            print(L.pop())\n",
    "        elif words[0] == 'quit':\n",
    "            break\n",
    "        else:\n",
    "            print('Unknown command')"
   ]
  },
  {
   "cell_type": "code",
   "execution_count": null,
   "id": "274bc1e4",
   "metadata": {},
   "outputs": [],
   "source": [
    "def StackInterpreter():\n",
    "    L = []\n",
    "    while True:\n",
    "        cmd = input('Eneter a stack operation:')\n",
    "        words = line.split()\n",
    "        if len(words) == 0:\n",
    "            continue\n",
    "        if words[0] == 'show':\n",
    "            print(L)\n",
    "            continue\n",
    "        if words[0] == 'push':\n",
    "            L.extend(words[1:])\n",
    "            continue\n",
    "        if words[0] == 'pop':\n",
    "            print(L.pop())\n",
    "            continue\n",
    "        if words[0] == 'quit':\n",
    "            break\n",
    "        print('Unknown command')"
   ]
  }
 ],
 "metadata": {
  "kernelspec": {
   "display_name": "Python 3 (ipykernel)",
   "language": "python",
   "name": "python3"
  },
  "language_info": {
   "codemirror_mode": {
    "name": "ipython",
    "version": 3
   },
   "file_extension": ".py",
   "mimetype": "text/x-python",
   "name": "python",
   "nbconvert_exporter": "python",
   "pygments_lexer": "ipython3",
   "version": "3.8.10"
  }
 },
 "nbformat": 4,
 "nbformat_minor": 5
}
