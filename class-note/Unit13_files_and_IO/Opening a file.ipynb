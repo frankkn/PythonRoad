{
 "cells": [
  {
   "cell_type": "code",
   "execution_count": 5,
   "id": "f6b91fae",
   "metadata": {},
   "outputs": [
    {
     "name": "stdout",
     "output_type": "stream",
     "text": [
      "#!/usr/bin/python\n",
      "\n",
      "\n",
      "\n",
      "import sys\n",
      "\n"
     ]
    }
   ],
   "source": [
    "fh = open('arg.py','r')\n",
    "print(fh.readline())\n",
    "print(fh.readline())\n",
    "print(fh.readline())"
   ]
  },
  {
   "cell_type": "code",
   "execution_count": 2,
   "id": "4fa4039b",
   "metadata": {},
   "outputs": [
    {
     "data": {
      "text/plain": [
       "['#!/usr/bin/python\\n', '\\n', 'import sys\\n', 'L = len(sys.argv)']"
      ]
     },
     "execution_count": 2,
     "metadata": {},
     "output_type": "execute_result"
    }
   ],
   "source": [
    "fh = open('arg.py', 'r')\n",
    "fh.readlines()"
   ]
  },
  {
   "cell_type": "code",
   "execution_count": 7,
   "id": "a88e7ce8",
   "metadata": {},
   "outputs": [
    {
     "name": "stdout",
     "output_type": "stream",
     "text": [
      "#!/usr/bin\n",
      "/python\n",
      "\n",
      "\n",
      "import sys\n",
      "L = len(sys.argv)\n",
      "\n"
     ]
    }
   ],
   "source": [
    "fh = open('arg.py', 'r')\n",
    "print(fh.read(10)) #read 10 characters\n",
    "\n",
    "print(fh.read(9)) #read the next 9 characters\n",
    "\n",
    "print(fh.read()) # read till end of file\n",
    "\n",
    "print(fh.read(100))"
   ]
  }
 ],
 "metadata": {
  "kernelspec": {
   "display_name": "Python 3 (ipykernel)",
   "language": "python",
   "name": "python3"
  },
  "language_info": {
   "codemirror_mode": {
    "name": "ipython",
    "version": 3
   },
   "file_extension": ".py",
   "mimetype": "text/x-python",
   "name": "python",
   "nbconvert_exporter": "python",
   "pygments_lexer": "ipython3",
   "version": "3.8.10"
  }
 },
 "nbformat": 4,
 "nbformat_minor": 5
}
