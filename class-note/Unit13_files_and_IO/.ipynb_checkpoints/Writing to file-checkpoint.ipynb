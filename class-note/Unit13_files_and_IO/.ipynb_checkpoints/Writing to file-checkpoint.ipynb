{
 "cells": [
  {
   "cell_type": "code",
   "execution_count": 1,
   "id": "24ede4fc",
   "metadata": {},
   "outputs": [],
   "source": [
    "fh = open('e.txt', 'w')\n",
    "fh.write('ABCDE\\nWXYZ\\n')\n",
    "fh.close()"
   ]
  },
  {
   "cell_type": "code",
   "execution_count": null,
   "id": "54b93a95",
   "metadata": {},
   "outputs": [],
   "source": [
    "fh = open('out.txt', 'w')\n",
    "L = [1,2,3]\n",
    "fh.write(L) # argument must be str, not list !"
   ]
  }
 ],
 "metadata": {
  "kernelspec": {
   "display_name": "Python 3 (ipykernel)",
   "language": "python",
   "name": "python3"
  },
  "language_info": {
   "codemirror_mode": {
    "name": "ipython",
    "version": 3
   },
   "file_extension": ".py",
   "mimetype": "text/x-python",
   "name": "python",
   "nbconvert_exporter": "python",
   "pygments_lexer": "ipython3",
   "version": "3.8.10"
  }
 },
 "nbformat": 4,
 "nbformat_minor": 5
}
