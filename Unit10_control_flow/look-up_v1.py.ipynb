{
 "cells": [
  {
   "cell_type": "code",
   "execution_count": 2,
   "id": "0a470944",
   "metadata": {},
   "outputs": [
    {
     "name": "stdout",
     "output_type": "stream",
     "text": [
      "enter word to look up:pan\n",
      "in English: 鍋⼦\n"
     ]
    }
   ],
   "source": [
    "english = {'one':1, 'pan':'鍋⼦', 'cabbage':'⾼麗菜','pie':'派餅'}\n",
    "spanish = {'uno':1, 'pan':'麵包', 'col':'⾼麗菜', 'pie':'腳'}\n",
    "french = {'une':1, 'toi':'你', 'col':'衣領', 'pie':'鵲'}\n",
    "word = input('enter word to look up:')\n",
    "if word in english:\n",
    "    print(f'in English: {english[word]}')\n",
    "elif word in spanish:\n",
    "    print(f'in Spanish: {spanish[word]}')\n",
    "elif word in french:\n",
    "    print(f'in French: {french[word]}')\n",
    "else:\n",
    "    print(f'{word} not found in dictionary')"
   ]
  },
  {
   "cell_type": "code",
   "execution_count": null,
   "id": "d001ba17",
   "metadata": {},
   "outputs": [],
   "source": []
  }
 ],
 "metadata": {
  "kernelspec": {
   "display_name": "Python 3.10.0 64-bit",
   "language": "python",
   "name": "python3"
  },
  "language_info": {
   "codemirror_mode": {
    "name": "ipython",
    "version": 3
   },
   "file_extension": ".py",
   "mimetype": "text/x-python",
   "name": "python",
   "nbconvert_exporter": "python",
   "pygments_lexer": "ipython3",
   "version": "3.10.0"
  },
  "vscode": {
   "interpreter": {
    "hash": "2469a70536e4d2335a2ea8907942d0699c37342a371ac185bdb5b0aa6f073890"
   }
  }
 },
 "nbformat": 4,
 "nbformat_minor": 5
}
