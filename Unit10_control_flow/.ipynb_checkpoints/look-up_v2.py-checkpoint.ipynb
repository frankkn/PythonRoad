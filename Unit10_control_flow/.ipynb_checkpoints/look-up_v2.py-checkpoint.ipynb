{
 "cells": [
  {
   "cell_type": "code",
   "execution_count": 1,
   "id": "ce29ef1b",
   "metadata": {},
   "outputs": [
    {
     "name": "stdout",
     "output_type": "stream",
     "text": [
      "enter word to look up:one\n",
      "in English: 1\n"
     ]
    }
   ],
   "source": [
    "english = {'one':1, 'pan':'鍋⼦', 'cabbage':'⾼麗菜','pie':'派餅'}\n",
    "spanish = {'uno':1, 'pan':'麵包', 'col':'⾼麗菜', 'pie':'腳'}\n",
    "french = {'une':1, 'toi':'你', 'col':'衣領', 'pie':'鵲'}\n",
    "found = False\n",
    "word = input('enter word to look up:')\n",
    "if word in english:\n",
    "    print(f'in English: {english[word]}')\n",
    "    found = True\n",
    "if word in spanish:\n",
    "    print(f'in Spanish: {spanish[word]}')\n",
    "    found = True\n",
    "if word in french:\n",
    "    print(f'in French: {french[word]}')\n",
    "    found = True\n",
    "if not found:\n",
    "    print(f'{word} not found in dictionary')"
   ]
  },
  {
   "cell_type": "code",
   "execution_count": 12,
   "id": "6c50be07",
   "metadata": {},
   "outputs": [
    {
     "name": "stdout",
     "output_type": "stream",
     "text": [
      "enter word to look up: zero\n",
      "pie not found in dictionary\n"
     ]
    }
   ],
   "source": [
    "def LookupDicts(word):\n",
    "    outList = []\n",
    "    if word in english:\n",
    "        outList.append(f'in English: {english[word]}')\n",
    "    if word in spanish:\n",
    "        outList.append(f'in Spanish: {spanish[word]}')\n",
    "    if word in french:\n",
    "        outList.append(f'in French: {french[word]}')\n",
    "    return outList\n",
    "\n",
    "outList = LookupDicts(input('enter word to look up: '))\n",
    "    \n",
    "    \n",
    "# if not outList:\n",
    "#     print(f'{word} not found in dictionary')\n",
    "# else:\n",
    "#     print('\\n'.join(outList))\n",
    "    \n",
    "print(f'{word} not found in dictionary' if not outList \\\n",
    "     else '\\n'.join(outList))"
   ]
  },
  {
   "cell_type": "code",
   "execution_count": 19,
   "id": "c7b88673",
   "metadata": {},
   "outputs": [
    {
     "name": "stdout",
     "output_type": "stream",
     "text": [
      "False\n",
      "False\n",
      "True\n",
      "False\n",
      "False\n"
     ]
    }
   ],
   "source": [
    "def leap(year):\n",
    "    if (year % 400 == 0):\n",
    "        return True\n",
    "    else\n",
    "        if (year % 4 == 0):\n",
    "            if (year % 100 == 0):\n",
    "                return False\n",
    "            else:\n",
    "                return True\n",
    "        else:\n",
    "            return False\n",
    "\n",
    "def DaysInMonthTear(month, year):\n",
    "    return 31 if month in {1, 3, 5, 7, 8, 10, 12} else \\\n",
    "        30 if month in {4, 6, 9, 11} else \\\n",
    "        28 if not leap(year) else \\\n",
    "        29 \n",
    "\n",
    "print(leap(1700))\n",
    "print(leap(1800))\n",
    "print(leap(2000))\n",
    "print(leap(2001))\n",
    "print(leap(2002))"
   ]
  },
  {
   "cell_type": "code",
   "execution_count": null,
   "id": "f0fcb761",
   "metadata": {},
   "outputs": [],
   "source": []
  }
 ],
 "metadata": {
  "kernelspec": {
   "display_name": "Python 3 (ipykernel)",
   "language": "python",
   "name": "python3"
  },
  "language_info": {
   "codemirror_mode": {
    "name": "ipython",
    "version": 3
   },
   "file_extension": ".py",
   "mimetype": "text/x-python",
   "name": "python",
   "nbconvert_exporter": "python",
   "pygments_lexer": "ipython3",
   "version": "3.8.10"
  }
 },
 "nbformat": 4,
 "nbformat_minor": 5
}
