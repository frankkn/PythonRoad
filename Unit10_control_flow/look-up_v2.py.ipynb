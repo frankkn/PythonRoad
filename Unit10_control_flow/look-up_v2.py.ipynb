{
 "cells": [
  {
   "cell_type": "code",
   "execution_count": 1,
   "id": "ce29ef1b",
   "metadata": {},
   "outputs": [
    {
     "name": "stdout",
     "output_type": "stream",
     "text": [
      "enter word to look up:one\n",
      "in English: 1\n"
     ]
    }
   ],
   "source": [
    "english = {'one':1, 'pan':'鍋⼦', 'cabbage':'⾼麗菜','pie':'派餅'}\n",
    "spanish = {'uno':1, 'pan':'麵包', 'col':'⾼麗菜', 'pie':'腳'}\n",
    "french = {'une':1, 'toi':'你', 'col':'衣領', 'pie':'鵲'}\n",
    "found = False\n",
    "word = input('enter word to look up:')\n",
    "if word in english:\n",
    "    print(f'in English: {english[word]}')\n",
    "    found = True\n",
    "if word in spanish:\n",
    "    print(f'in Spanish: {spanish[word]}')\n",
    "    found = True\n",
    "if word in french:\n",
    "    print(f'in French: {french[word]}')\n",
    "    found = True\n",
    "if not found:\n",
    "    print(f'{word} not found in dictionary')"
   ]
  },
  {
   "cell_type": "code",
   "execution_count": null,
   "id": "6c50be07",
   "metadata": {},
   "outputs": [],
   "source": []
  }
 ],
 "metadata": {
  "kernelspec": {
   "display_name": "Python 3 (ipykernel)",
   "language": "python",
   "name": "python3"
  },
  "language_info": {
   "codemirror_mode": {
    "name": "ipython",
    "version": 3
   },
   "file_extension": ".py",
   "mimetype": "text/x-python",
   "name": "python",
   "nbconvert_exporter": "python",
   "pygments_lexer": "ipython3",
   "version": "3.8.10"
  }
 },
 "nbformat": 4,
 "nbformat_minor": 5
}
