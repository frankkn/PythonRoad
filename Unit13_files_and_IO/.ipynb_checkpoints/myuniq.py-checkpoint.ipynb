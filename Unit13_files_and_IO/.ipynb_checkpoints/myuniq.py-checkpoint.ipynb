{
 "cells": [
  {
   "cell_type": "code",
   "execution_count": null,
   "id": "8a209c4c",
   "metadata": {},
   "outputs": [],
   "source": [
    "import sys\n",
    "numberOfArgs = len(sys.argv)\n",
    "if numberOfArgs != 2:\n",
    "  sys.stderr.write('Usage: %s inputFile\\n' % sys.argv[0])\n",
    "  sys.exit(1)\n",
    "try:\n",
    "  fh = open(sys.argv[1], 'r')\n",
    "except:\n",
    "  sys.stderr.write('cannot open input file %s\\n' % sys.argv[1])\n",
    "  sys.exit(2)\n",
    "prevLine = ''\n",
    "for line in fh.readlines():\n",
    "  if line != prevLine:\n",
    "    print(line, end='')\n",
    "  prevLine = line\n",
    "fh.close()"
   ]
  },
  {
   "cell_type": "code",
   "execution_count": 1,
   "id": "582bd48d",
   "metadata": {},
   "outputs": [
    {
     "name": "stderr",
     "output_type": "stream",
     "text": [
      "Usage: /usr/local/lib/python3.8/dist-packages/ipykernel_launcher.py inputFile\n"
     ]
    },
    {
     "ename": "SystemExit",
     "evalue": "1",
     "output_type": "error",
     "traceback": [
      "An exception has occurred, use %tb to see the full traceback.\n",
      "\u001b[0;31mSystemExit\u001b[0m\u001b[0;31m:\u001b[0m 1\n"
     ]
    },
    {
     "name": "stderr",
     "output_type": "stream",
     "text": [
      "/usr/local/lib/python3.8/dist-packages/IPython/core/interactiveshell.py:3468: UserWarning: To exit: use 'exit', 'quit', or Ctrl-D.\n",
      "  warn(\"To exit: use 'exit', 'quit', or Ctrl-D.\", stacklevel=1)\n"
     ]
    }
   ],
   "source": [
    "#!/usr/bin/env python3\n",
    "import sys\n",
    "numberOfArgs = len(sys.argv)\n",
    "if numberOfArgs != 2:\n",
    "  sys.stderr.write(f'Usage: {sys.argv[0]} inputFile\\n')\n",
    "  sys.exit(1)\n",
    "try:\n",
    "    with open(sys.argv[1], 'r') as fh:\n",
    "        prevLine = ''\n",
    "        for line in fh.readlines():\n",
    "            if line != prevLine:\n",
    "                print(line, end = '')\n",
    "            prevLine = line\n",
    "except OSError as err:\n",
    "    sys.stderr.write(str(err)+'\\n')\n",
    "    sys.exit(2)"
   ]
  },
  {
   "cell_type": "code",
   "execution_count": null,
   "id": "22527dcc",
   "metadata": {},
   "outputs": [],
   "source": []
  }
 ],
 "metadata": {
  "kernelspec": {
   "display_name": "Python 3 (ipykernel)",
   "language": "python",
   "name": "python3"
  },
  "language_info": {
   "codemirror_mode": {
    "name": "ipython",
    "version": 3
   },
   "file_extension": ".py",
   "mimetype": "text/x-python",
   "name": "python",
   "nbconvert_exporter": "python",
   "pygments_lexer": "ipython3",
   "version": "3.8.10"
  }
 },
 "nbformat": 4,
 "nbformat_minor": 5
}
