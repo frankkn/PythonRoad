{
 "cells": [
  {
   "cell_type": "code",
   "execution_count": 3,
   "id": "5504bb23",
   "metadata": {},
   "outputs": [],
   "source": [
    "#!/usr/bin/env python3\n",
    "\"Demonstrates stdio by echoing\"\n",
    "import sys\n",
    "while True:\n",
    "    line = sys.stdin.readline()\n",
    "    if line == '': # ctrl+D\n",
    "        break\n",
    "    sys.stdout.write(line)"
   ]
  },
  {
   "cell_type": "code",
   "execution_count": 4,
   "id": "2db6e943",
   "metadata": {},
   "outputs": [
    {
     "ename": "SyntaxError",
     "evalue": "invalid syntax (3739231210.py, line 1)",
     "output_type": "error",
     "traceback": [
      "\u001b[0;36m  Cell \u001b[0;32mIn[4], line 1\u001b[0;36m\u001b[0m\n\u001b[0;31m    grep return *.py > result\u001b[0m\n\u001b[0m         ^\u001b[0m\n\u001b[0;31mSyntaxError\u001b[0m\u001b[0;31m:\u001b[0m invalid syntax\n"
     ]
    }
   ],
   "source": [
    "grep return *.py > result\n",
    "more result"
   ]
  },
  {
   "cell_type": "code",
   "execution_count": null,
   "id": "12595bfc",
   "metadata": {},
   "outputs": [],
   "source": [
    "wc -w < arg.py"
   ]
  },
  {
   "cell_type": "raw",
   "id": "0cb9c05f",
   "metadata": {},
   "source": [
    "grep return *.py | wc"
   ]
  }
 ],
 "metadata": {
  "kernelspec": {
   "display_name": "Python 3 (ipykernel)",
   "language": "python",
   "name": "python3"
  },
  "language_info": {
   "codemirror_mode": {
    "name": "ipython",
    "version": 3
   },
   "file_extension": ".py",
   "mimetype": "text/x-python",
   "name": "python",
   "nbconvert_exporter": "python",
   "pygments_lexer": "ipython3",
   "version": "3.8.10"
  }
 },
 "nbformat": 4,
 "nbformat_minor": 5
}
