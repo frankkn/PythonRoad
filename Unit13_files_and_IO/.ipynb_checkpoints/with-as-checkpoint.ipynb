{
 "cells": [
  {
   "cell_type": "code",
   "execution_count": 1,
   "id": "ca25bc87",
   "metadata": {},
   "outputs": [
    {
     "name": "stdout",
     "output_type": "stream",
     "text": [
      "['#!/usr/bin/python\\n', '\\n', 'import sys\\n', 'L = len(sys.argv)']\n"
     ]
    }
   ],
   "source": [
    "with open('arg.py', 'r') as fh:\n",
    "    L = fh.readlines()\n",
    "    print(L)"
   ]
  },
  {
   "cell_type": "code",
   "execution_count": 2,
   "id": "a9b9f1f0",
   "metadata": {},
   "outputs": [
    {
     "name": "stdout",
     "output_type": "stream",
     "text": [
      "#!/usr/bin/python\n",
      "\n",
      "\n",
      "\n",
      "import sys\n",
      "\n",
      "L = len(sys.argv)\n",
      "\n",
      "#!/usr/bin/python\n",
      "\n"
     ]
    }
   ],
   "source": [
    "fh = open('arg.py','r')\n",
    "print(fh.readline())\n",
    "print(fh.readline())\n",
    "print(fh.readline())\n",
    "print(fh.readline())\n",
    "print(fh.readline())\n",
    "fh.seek(0) # go to the begining\n",
    "print(fh.readline())"
   ]
  },
  {
   "cell_type": "code",
   "execution_count": 7,
   "id": "7b64192a",
   "metadata": {},
   "outputs": [
    {
     "name": "stdout",
     "output_type": "stream",
     "text": [
      "#!/usr/bin/python\n",
      "\n",
      "\n",
      "\n",
      "import sys\n",
      "\n",
      "L = len(sys.argv)\n",
      "import sys\n",
      "\n"
     ]
    }
   ],
   "source": [
    "fh = open('arg.py','r')\n",
    "print(fh.readline())\n",
    "print(fh.readline())\n",
    "savedPos = fh.tell() # 19\n",
    "print(fh.readline())\n",
    "print(fh.readline())\n",
    "fh.seek(savedPos)\n",
    "print(fh.readline())"
   ]
  }
 ],
 "metadata": {
  "kernelspec": {
   "display_name": "Python 3 (ipykernel)",
   "language": "python",
   "name": "python3"
  },
  "language_info": {
   "codemirror_mode": {
    "name": "ipython",
    "version": 3
   },
   "file_extension": ".py",
   "mimetype": "text/x-python",
   "name": "python",
   "nbconvert_exporter": "python",
   "pygments_lexer": "ipython3",
   "version": "3.8.10"
  }
 },
 "nbformat": 4,
 "nbformat_minor": 5
}
